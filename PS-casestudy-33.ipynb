{
 "cells": [
  {
   "cell_type": "markdown",
   "metadata": {},
   "source": [
    "## Case Study 2: A/B Testing for Conversion Rate Optimization\n",
    "## Table of Contents\n",
    "- [Overview](#overview)\n",
    "- [1. Formulating a Hypothesis](#formulating_a_hypothesis)\n",
    "- [2. Start the Process](#start_the_process)\n",
    "- [3. Data Cleaning](#data_cleaning)\n",
    "- [4. Exploratory Data Analysis](#exploratory_data_analysis)\n",
    "- [5. Testing the Hypothesis](#testing_the_hypothesis)\n",
    "- [6. Conclusions](#conclusions)\n",
    "\n",
    "<a id='overview'></a>\n",
    "## Overview\n",
    "**Background**\n",
    "\n",
    "The product team developed a new CTA message and ran an experiment to see if the new message was more effective in getting subscribers to convert.\n",
    "\n",
    "**Dataset**\n",
    "\n",
    "I have the experiment result from control and treatment/test group and know that typical conversion rates have historically trended about 10%.\n",
    "\n",
    "**Goal**\n",
    "\n",
    "To recommend whether the team should switch to the new message. \n",
    "\n",
    "**Approach**\n",
    "\n",
    "For this case study, I conducted A/B testing and will go through the process from formulating a hypothesis, doing exploratory data analysis, testing the hypothesis, and then interpreting results. \n",
    "\n",
    "\n",
    "\n"
   ]
  },
  {
   "cell_type": "markdown",
   "metadata": {},
   "source": [
    "<a id='formulating_a_hypothesis'></a>\n",
    "### 1. Formulating a hypothesis\n",
    "\n",
    "First, let's formulate a hypothesis or two.\n",
    "\n",
    "We don't know if the new message will result in more, less, or the same conversions as the old message, so we will go with a two-tailed approach. \n",
    "\n",
    "The Null hypothesis states that there exists no statistically significant difference in conversion rates between the test (new message) and control (old message) ($H_0$). And the alternative hypothesis states that there exists a statistically significant difference in conversion rates between the test (new message) and control (old message) ($H_a$).\n",
    "\n",
    "$$H_0: m = m_0$$  \n",
    "$$H_a: m \\ne m_0$$  \n",
    "\n",
    "where $m$ and $m_0$ stand for the conversion rate of the new and old messages, respectively. If we get a result that shows that the conversion rates are significantly differnt from eachother, we can reject the Null hypothesis.\n",
    "\n",
    "Let's also set a **confidence level of 95%**:\n",
    "\n",
    "$$\\alpha = 0.05$$\n",
    "\n",
    "And this is to say that we want to be 95% confident that the conversion rate of the new message is statistically different from the conversion rate of the old message, before we decide to reject the Null hypothesis $H_0$. "
   ]
  },
  {
   "cell_type": "markdown",
   "metadata": {},
   "source": [
    "<a id='start_the_process'></a>\n",
    "### 2. Start the process\n",
    "\n",
    "Now let's go ahead and install some useful libraries "
   ]
  },
  {
   "cell_type": "code",
   "execution_count": 1,
   "metadata": {},
   "outputs": [],
   "source": [
    "#Import statements:\n",
    "\n",
    "import pandas as pd\n",
    "import numpy as np\n",
    "import scipy.stats as stats\n",
    "import matplotlib.pyplot as plt\n",
    "import seaborn as sns\n",
    "import statsmodels.stats.api as sms\n",
    "import sklearn as sk\n",
    "\n",
    "#For z-tests:\n",
    "from statsmodels.stats.proportion import proportions_ztest, proportion_confint"
   ]
  },
  {
   "cell_type": "markdown",
   "metadata": {},
   "source": [
    "##### Import the dataset"
   ]
  },
  {
   "cell_type": "code",
   "execution_count": 2,
   "metadata": {},
   "outputs": [],
   "source": [
    "#Read the data\n",
    "df = pd.read_csv(\"/Users/sogolshirazi/Documents/Python Files/Product Analyst _AB Test Data_results_PS.csv\")"
   ]
  },
  {
   "cell_type": "markdown",
   "metadata": {},
   "source": [
    "##### Some stats about the dataset"
   ]
  },
  {
   "cell_type": "code",
   "execution_count": 3,
   "metadata": {},
   "outputs": [
    {
     "data": {
      "text/html": [
       "<div>\n",
       "<style scoped>\n",
       "    .dataframe tbody tr th:only-of-type {\n",
       "        vertical-align: middle;\n",
       "    }\n",
       "\n",
       "    .dataframe tbody tr th {\n",
       "        vertical-align: top;\n",
       "    }\n",
       "\n",
       "    .dataframe thead th {\n",
       "        text-align: right;\n",
       "    }\n",
       "</style>\n",
       "<table border=\"1\" class=\"dataframe\">\n",
       "  <thead>\n",
       "    <tr style=\"text-align: right;\">\n",
       "      <th></th>\n",
       "      <th>subscriber_id</th>\n",
       "      <th>timestamp</th>\n",
       "      <th>group</th>\n",
       "      <th>message_version</th>\n",
       "      <th>converted</th>\n",
       "    </tr>\n",
       "  </thead>\n",
       "  <tbody>\n",
       "    <tr>\n",
       "      <th>0</th>\n",
       "      <td>5337528</td>\n",
       "      <td>4/10/2022 23:41:09</td>\n",
       "      <td>test</td>\n",
       "      <td>message_v2</td>\n",
       "      <td>0</td>\n",
       "    </tr>\n",
       "    <tr>\n",
       "      <th>1</th>\n",
       "      <td>4899620</td>\n",
       "      <td>4/28/2022 13:40:50</td>\n",
       "      <td>test</td>\n",
       "      <td>message_v2</td>\n",
       "      <td>1</td>\n",
       "    </tr>\n",
       "    <tr>\n",
       "      <th>2</th>\n",
       "      <td>4457374</td>\n",
       "      <td>3/21/2022 15:45:06</td>\n",
       "      <td>test</td>\n",
       "      <td>message_v2</td>\n",
       "      <td>0</td>\n",
       "    </tr>\n",
       "    <tr>\n",
       "      <th>3</th>\n",
       "      <td>6279421</td>\n",
       "      <td>3/12/2022 17:45:49</td>\n",
       "      <td>control</td>\n",
       "      <td>message_v1</td>\n",
       "      <td>0</td>\n",
       "    </tr>\n",
       "    <tr>\n",
       "      <th>4</th>\n",
       "      <td>8124896</td>\n",
       "      <td>3/5/2022 11:46:30</td>\n",
       "      <td>test</td>\n",
       "      <td>message_v2</td>\n",
       "      <td>0</td>\n",
       "    </tr>\n",
       "  </tbody>\n",
       "</table>\n",
       "</div>"
      ],
      "text/plain": [
       "   subscriber_id           timestamp    group message_version  converted\n",
       "0        5337528  4/10/2022 23:41:09     test      message_v2          0\n",
       "1        4899620  4/28/2022 13:40:50     test      message_v2          1\n",
       "2        4457374  3/21/2022 15:45:06     test      message_v2          0\n",
       "3        6279421  3/12/2022 17:45:49  control      message_v1          0\n",
       "4        8124896   3/5/2022 11:46:30     test      message_v2          0"
      ]
     },
     "execution_count": 3,
     "metadata": {},
     "output_type": "execute_result"
    }
   ],
   "source": [
    "#Check the first few rows of the data\n",
    "df.head()"
   ]
  },
  {
   "cell_type": "markdown",
   "metadata": {},
   "source": [
    "Here, we can see the first few rows of the data and know from our data dictionary that: \n",
    "\n",
    "subscriber_id: Unique identifier for a subscriber.\n",
    "\n",
    "\n",
    "timestamp: The time the message was sent.\n",
    "\n",
    "group: Describes whether the subscriber was in the test or control group\n",
    "\n",
    "message_version: Shows version of the message sent\n",
    "\n",
    "converted: Flag whether the subscriber took action as a result of the message\n",
    "\n",
    "Our definition of 'converted' is that the subscriber took an action because of the message, but we don't know what that action is. Usually, conversion is purchase, but we don't actually know that here. It could be a click, etc. We can keep this in mind when it comes to interpreting the results.\n"
   ]
  },
  {
   "cell_type": "markdown",
   "metadata": {},
   "source": [
    "<a id='data_cleaning'></a>\n",
    "### 3. Data Cleaning"
   ]
  },
  {
   "cell_type": "markdown",
   "metadata": {},
   "source": [
    "##### Check for duplicates"
   ]
  },
  {
   "cell_type": "code",
   "execution_count": 4,
   "metadata": {},
   "outputs": [
    {
     "name": "stdout",
     "output_type": "stream",
     "text": [
      "Duplicates found in subscriber_id:\n",
      "       subscriber_id           timestamp    group message_version  converted\n",
      "24           9243079  3/20/2022 22:56:36     test      message_v2          0\n",
      "117          8335536   4/23/2022 6:47:21     test      message_v2          0\n",
      "221          4746202  2/28/2022 11:23:34  control      message_v1          0\n",
      "630           463680  4/24/2022 20:21:46  control      message_v1          0\n",
      "1596         5141839  3/19/2022 21:02:09  control      message_v1          0\n",
      "2483         4746202   4/18/2022 1:21:16     test      message_v2          1\n",
      "4291          859230  3/23/2022 15:21:05     test      message_v2          0\n",
      "5188          340742  3/16/2022 17:52:00     test      message_v2          0\n",
      "5401         1691290    3/4/2022 5:46:25  control      message_v1          0\n",
      "7153         1723975   3/19/2022 4:43:12     test      message_v2          0\n",
      "7415         6245314  3/21/2022 15:24:24  control      message_v1          1\n",
      "7582         6347537    3/2/2022 2:38:37  control      message_v1          0\n",
      "7609         8117913  4/14/2022 12:41:17     test      message_v2          0\n",
      "8455         2382811   3/20/2022 7:54:53     test      message_v2          0\n",
      "8952         4198109    4/6/2022 1:37:36  control      message_v1          0\n",
      "9369         6245314    3/2/2022 9:58:28  control      message_v1          0\n",
      "9400         9959653    3/3/2022 4:56:30  control      message_v1          0\n",
      "9597         1723975  4/27/2022 10:59:04     test      message_v2          0\n",
      "9802         4198109  4/25/2022 23:50:56  control      message_v1          0\n",
      "10105        8117913   4/23/2022 3:59:00     test      message_v2          1\n",
      "10166        1691290  4/27/2022 10:23:44  control      message_v1          0\n",
      "11300        9959653   4/26/2022 1:49:38  control      message_v1          0\n",
      "11544        2314406   3/1/2022 18:14:09  control      message_v1          0\n",
      "11582         317187  4/24/2022 16:32:33  control      message_v1          0\n",
      "12093        2456857   3/2/2022 14:25:13     test      message_v2          0\n",
      "12593        5141839    3/2/2022 6:46:17  control      message_v1          1\n",
      "12626         918573  3/21/2022 19:52:53     test      message_v2          1\n",
      "12887        9243079   3/27/2022 7:41:04     test      message_v2          0\n",
      "13745        2382811   4/15/2022 9:24:51     test      message_v2          0\n",
      "14527        6199998  3/21/2022 22:34:48  control      message_v1          1\n",
      "14754        6347537    4/8/2022 0:01:48     test      message_v2          0\n",
      "15727        2456857  3/29/2022 12:14:31     test      message_v2          1\n",
      "16523        8335536  3/22/2022 10:32:20     test      message_v2          0\n",
      "16718         463680   3/23/2022 8:06:46     test      message_v2          0\n",
      "17161        6199998  4/23/2022 21:55:18  control      message_v1          0\n",
      "17176         859230   3/21/2022 2:05:51     test      message_v2          0\n",
      "18985        8569704    4/8/2022 4:39:07  control      message_v1          1\n",
      "19272         918573  4/14/2022 12:42:25     test      message_v2          1\n",
      "19440        8569704   3/20/2022 6:20:24  control      message_v1          0\n",
      "19537         317187   3/27/2022 3:24:33     test      message_v2          0\n",
      "19748         340742   4/3/2022 22:37:21     test      message_v2          1\n",
      "19961        2314406  3/10/2022 20:08:48  control      message_v1          0\n"
     ]
    }
   ],
   "source": [
    "# Check for duplicates in subscriber_id\n",
    "duplicates = df[df.duplicated(subset=['subscriber_id'], keep=False)]\n",
    "print(\"Duplicates found in subscriber_id:\")\n",
    "print(duplicates)"
   ]
  },
  {
   "cell_type": "markdown",
   "metadata": {},
   "source": [
    "\n",
    "I saw that there were some duplicate subscriber_ids in this dataset. I wanted to check the nature of these duplicates to see if all row data was duplicated, or just the subscriber_id. I found that the duplicates were subscribers that had been sent a message twice, sometimes differing messages. At first, I thought about including the data associated with the first message sent for these subscribers, but I realized that too could be influenced by the second message, so I decided to remove all duplicates. You can also remove null values at this step."
   ]
  },
  {
   "cell_type": "markdown",
   "metadata": {},
   "source": [
    "##### Remove duplicates"
   ]
  },
  {
   "cell_type": "code",
   "execution_count": 5,
   "metadata": {},
   "outputs": [
    {
     "data": {
      "text/html": [
       "<div>\n",
       "<style scoped>\n",
       "    .dataframe tbody tr th:only-of-type {\n",
       "        vertical-align: middle;\n",
       "    }\n",
       "\n",
       "    .dataframe tbody tr th {\n",
       "        vertical-align: top;\n",
       "    }\n",
       "\n",
       "    .dataframe thead th {\n",
       "        text-align: right;\n",
       "    }\n",
       "</style>\n",
       "<table border=\"1\" class=\"dataframe\">\n",
       "  <thead>\n",
       "    <tr style=\"text-align: right;\">\n",
       "      <th></th>\n",
       "      <th>subscriber_id</th>\n",
       "      <th>timestamp</th>\n",
       "      <th>group</th>\n",
       "      <th>message_version</th>\n",
       "      <th>converted</th>\n",
       "    </tr>\n",
       "  </thead>\n",
       "  <tbody>\n",
       "    <tr>\n",
       "      <th>0</th>\n",
       "      <td>5337528</td>\n",
       "      <td>4/10/2022 23:41:09</td>\n",
       "      <td>test</td>\n",
       "      <td>message_v2</td>\n",
       "      <td>0</td>\n",
       "    </tr>\n",
       "    <tr>\n",
       "      <th>1</th>\n",
       "      <td>4899620</td>\n",
       "      <td>4/28/2022 13:40:50</td>\n",
       "      <td>test</td>\n",
       "      <td>message_v2</td>\n",
       "      <td>1</td>\n",
       "    </tr>\n",
       "    <tr>\n",
       "      <th>2</th>\n",
       "      <td>4457374</td>\n",
       "      <td>3/21/2022 15:45:06</td>\n",
       "      <td>test</td>\n",
       "      <td>message_v2</td>\n",
       "      <td>0</td>\n",
       "    </tr>\n",
       "    <tr>\n",
       "      <th>3</th>\n",
       "      <td>6279421</td>\n",
       "      <td>3/12/2022 17:45:49</td>\n",
       "      <td>control</td>\n",
       "      <td>message_v1</td>\n",
       "      <td>0</td>\n",
       "    </tr>\n",
       "    <tr>\n",
       "      <th>4</th>\n",
       "      <td>8124896</td>\n",
       "      <td>3/5/2022 11:46:30</td>\n",
       "      <td>test</td>\n",
       "      <td>message_v2</td>\n",
       "      <td>0</td>\n",
       "    </tr>\n",
       "    <tr>\n",
       "      <th>...</th>\n",
       "      <td>...</td>\n",
       "      <td>...</td>\n",
       "      <td>...</td>\n",
       "      <td>...</td>\n",
       "      <td>...</td>\n",
       "    </tr>\n",
       "    <tr>\n",
       "      <th>19995</th>\n",
       "      <td>8051012</td>\n",
       "      <td>3/26/2022 4:10:16</td>\n",
       "      <td>control</td>\n",
       "      <td>message_v1</td>\n",
       "      <td>0</td>\n",
       "    </tr>\n",
       "    <tr>\n",
       "      <th>19996</th>\n",
       "      <td>4630304</td>\n",
       "      <td>3/24/2022 10:25:10</td>\n",
       "      <td>control</td>\n",
       "      <td>message_v1</td>\n",
       "      <td>0</td>\n",
       "    </tr>\n",
       "    <tr>\n",
       "      <th>19997</th>\n",
       "      <td>3589638</td>\n",
       "      <td>3/17/2022 9:20:57</td>\n",
       "      <td>test</td>\n",
       "      <td>message_v2</td>\n",
       "      <td>0</td>\n",
       "    </tr>\n",
       "    <tr>\n",
       "      <th>19998</th>\n",
       "      <td>6052047</td>\n",
       "      <td>4/8/2022 9:48:57</td>\n",
       "      <td>test</td>\n",
       "      <td>message_v2</td>\n",
       "      <td>0</td>\n",
       "    </tr>\n",
       "    <tr>\n",
       "      <th>19999</th>\n",
       "      <td>1864268</td>\n",
       "      <td>4/16/2022 0:30:33</td>\n",
       "      <td>control</td>\n",
       "      <td>message_v1</td>\n",
       "      <td>1</td>\n",
       "    </tr>\n",
       "  </tbody>\n",
       "</table>\n",
       "<p>19979 rows × 5 columns</p>\n",
       "</div>"
      ],
      "text/plain": [
       "       subscriber_id           timestamp    group message_version  converted\n",
       "0            5337528  4/10/2022 23:41:09     test      message_v2          0\n",
       "1            4899620  4/28/2022 13:40:50     test      message_v2          1\n",
       "2            4457374  3/21/2022 15:45:06     test      message_v2          0\n",
       "3            6279421  3/12/2022 17:45:49  control      message_v1          0\n",
       "4            8124896   3/5/2022 11:46:30     test      message_v2          0\n",
       "...              ...                 ...      ...             ...        ...\n",
       "19995        8051012   3/26/2022 4:10:16  control      message_v1          0\n",
       "19996        4630304  3/24/2022 10:25:10  control      message_v1          0\n",
       "19997        3589638   3/17/2022 9:20:57     test      message_v2          0\n",
       "19998        6052047    4/8/2022 9:48:57     test      message_v2          0\n",
       "19999        1864268   4/16/2022 0:30:33  control      message_v1          1\n",
       "\n",
       "[19979 rows x 5 columns]"
      ]
     },
     "execution_count": 5,
     "metadata": {},
     "output_type": "execute_result"
    }
   ],
   "source": [
    "# Remove duplicates based on subscriber_id\n",
    "df_cleaned = df.drop_duplicates(subset=['subscriber_id'])\n",
    "\n",
    "# Display the cleaned DataFrame\n",
    "df_cleaned"
   ]
  },
  {
   "cell_type": "markdown",
   "metadata": {},
   "source": [
    "##### Remove unwanted columns"
   ]
  },
  {
   "cell_type": "code",
   "execution_count": 6,
   "metadata": {},
   "outputs": [
    {
     "data": {
      "text/html": [
       "<div>\n",
       "<style scoped>\n",
       "    .dataframe tbody tr th:only-of-type {\n",
       "        vertical-align: middle;\n",
       "    }\n",
       "\n",
       "    .dataframe tbody tr th {\n",
       "        vertical-align: top;\n",
       "    }\n",
       "\n",
       "    .dataframe thead th {\n",
       "        text-align: right;\n",
       "    }\n",
       "</style>\n",
       "<table border=\"1\" class=\"dataframe\">\n",
       "  <thead>\n",
       "    <tr style=\"text-align: right;\">\n",
       "      <th></th>\n",
       "      <th>timestamp</th>\n",
       "      <th>group</th>\n",
       "      <th>converted</th>\n",
       "    </tr>\n",
       "  </thead>\n",
       "  <tbody>\n",
       "    <tr>\n",
       "      <th>0</th>\n",
       "      <td>4/10/2022 23:41:09</td>\n",
       "      <td>test</td>\n",
       "      <td>0</td>\n",
       "    </tr>\n",
       "    <tr>\n",
       "      <th>1</th>\n",
       "      <td>4/28/2022 13:40:50</td>\n",
       "      <td>test</td>\n",
       "      <td>1</td>\n",
       "    </tr>\n",
       "    <tr>\n",
       "      <th>2</th>\n",
       "      <td>3/21/2022 15:45:06</td>\n",
       "      <td>test</td>\n",
       "      <td>0</td>\n",
       "    </tr>\n",
       "    <tr>\n",
       "      <th>3</th>\n",
       "      <td>3/12/2022 17:45:49</td>\n",
       "      <td>control</td>\n",
       "      <td>0</td>\n",
       "    </tr>\n",
       "    <tr>\n",
       "      <th>4</th>\n",
       "      <td>3/5/2022 11:46:30</td>\n",
       "      <td>test</td>\n",
       "      <td>0</td>\n",
       "    </tr>\n",
       "    <tr>\n",
       "      <th>...</th>\n",
       "      <td>...</td>\n",
       "      <td>...</td>\n",
       "      <td>...</td>\n",
       "    </tr>\n",
       "    <tr>\n",
       "      <th>19995</th>\n",
       "      <td>3/26/2022 4:10:16</td>\n",
       "      <td>control</td>\n",
       "      <td>0</td>\n",
       "    </tr>\n",
       "    <tr>\n",
       "      <th>19996</th>\n",
       "      <td>3/24/2022 10:25:10</td>\n",
       "      <td>control</td>\n",
       "      <td>0</td>\n",
       "    </tr>\n",
       "    <tr>\n",
       "      <th>19997</th>\n",
       "      <td>3/17/2022 9:20:57</td>\n",
       "      <td>test</td>\n",
       "      <td>0</td>\n",
       "    </tr>\n",
       "    <tr>\n",
       "      <th>19998</th>\n",
       "      <td>4/8/2022 9:48:57</td>\n",
       "      <td>test</td>\n",
       "      <td>0</td>\n",
       "    </tr>\n",
       "    <tr>\n",
       "      <th>19999</th>\n",
       "      <td>4/16/2022 0:30:33</td>\n",
       "      <td>control</td>\n",
       "      <td>1</td>\n",
       "    </tr>\n",
       "  </tbody>\n",
       "</table>\n",
       "<p>19979 rows × 3 columns</p>\n",
       "</div>"
      ],
      "text/plain": [
       "                timestamp    group  converted\n",
       "0      4/10/2022 23:41:09     test          0\n",
       "1      4/28/2022 13:40:50     test          1\n",
       "2      3/21/2022 15:45:06     test          0\n",
       "3      3/12/2022 17:45:49  control          0\n",
       "4       3/5/2022 11:46:30     test          0\n",
       "...                   ...      ...        ...\n",
       "19995   3/26/2022 4:10:16  control          0\n",
       "19996  3/24/2022 10:25:10  control          0\n",
       "19997   3/17/2022 9:20:57     test          0\n",
       "19998    4/8/2022 9:48:57     test          0\n",
       "19999   4/16/2022 0:30:33  control          1\n",
       "\n",
       "[19979 rows x 3 columns]"
      ]
     },
     "execution_count": 6,
     "metadata": {},
     "output_type": "execute_result"
    }
   ],
   "source": [
    "# Drop unwanted columns\n",
    "columns_to_drop = ['subscriber_id', 'message_version']  \n",
    "df_cleaned = df_cleaned.drop(columns=columns_to_drop)\n",
    "df_cleaned"
   ]
  },
  {
   "cell_type": "markdown",
   "metadata": {},
   "source": [
    "I dropped the subscriber_id column at this point as it did not impact the conversion rate. The message_version was also unnecessary since we already had whether they were in the control vs test group."
   ]
  },
  {
   "cell_type": "markdown",
   "metadata": {},
   "source": [
    "##### Other data cleaning"
   ]
  },
  {
   "cell_type": "code",
   "execution_count": 7,
   "metadata": {},
   "outputs": [
    {
     "data": {
      "text/html": [
       "<div>\n",
       "<style scoped>\n",
       "    .dataframe tbody tr th:only-of-type {\n",
       "        vertical-align: middle;\n",
       "    }\n",
       "\n",
       "    .dataframe tbody tr th {\n",
       "        vertical-align: top;\n",
       "    }\n",
       "\n",
       "    .dataframe thead th {\n",
       "        text-align: right;\n",
       "    }\n",
       "</style>\n",
       "<table border=\"1\" class=\"dataframe\">\n",
       "  <thead>\n",
       "    <tr style=\"text-align: right;\">\n",
       "      <th></th>\n",
       "      <th>timestamp</th>\n",
       "      <th>group</th>\n",
       "      <th>converted</th>\n",
       "      <th>day_of_week</th>\n",
       "      <th>hour_of_day</th>\n",
       "    </tr>\n",
       "  </thead>\n",
       "  <tbody>\n",
       "    <tr>\n",
       "      <th>0</th>\n",
       "      <td>2022-04-10 23:41:09</td>\n",
       "      <td>test</td>\n",
       "      <td>0</td>\n",
       "      <td>Sunday</td>\n",
       "      <td>23</td>\n",
       "    </tr>\n",
       "    <tr>\n",
       "      <th>1</th>\n",
       "      <td>2022-04-28 13:40:50</td>\n",
       "      <td>test</td>\n",
       "      <td>1</td>\n",
       "      <td>Thursday</td>\n",
       "      <td>13</td>\n",
       "    </tr>\n",
       "    <tr>\n",
       "      <th>2</th>\n",
       "      <td>2022-03-21 15:45:06</td>\n",
       "      <td>test</td>\n",
       "      <td>0</td>\n",
       "      <td>Monday</td>\n",
       "      <td>15</td>\n",
       "    </tr>\n",
       "    <tr>\n",
       "      <th>3</th>\n",
       "      <td>2022-03-12 17:45:49</td>\n",
       "      <td>control</td>\n",
       "      <td>0</td>\n",
       "      <td>Saturday</td>\n",
       "      <td>17</td>\n",
       "    </tr>\n",
       "    <tr>\n",
       "      <th>4</th>\n",
       "      <td>2022-03-05 11:46:30</td>\n",
       "      <td>test</td>\n",
       "      <td>0</td>\n",
       "      <td>Saturday</td>\n",
       "      <td>11</td>\n",
       "    </tr>\n",
       "    <tr>\n",
       "      <th>...</th>\n",
       "      <td>...</td>\n",
       "      <td>...</td>\n",
       "      <td>...</td>\n",
       "      <td>...</td>\n",
       "      <td>...</td>\n",
       "    </tr>\n",
       "    <tr>\n",
       "      <th>19995</th>\n",
       "      <td>2022-03-26 04:10:16</td>\n",
       "      <td>control</td>\n",
       "      <td>0</td>\n",
       "      <td>Saturday</td>\n",
       "      <td>4</td>\n",
       "    </tr>\n",
       "    <tr>\n",
       "      <th>19996</th>\n",
       "      <td>2022-03-24 10:25:10</td>\n",
       "      <td>control</td>\n",
       "      <td>0</td>\n",
       "      <td>Thursday</td>\n",
       "      <td>10</td>\n",
       "    </tr>\n",
       "    <tr>\n",
       "      <th>19997</th>\n",
       "      <td>2022-03-17 09:20:57</td>\n",
       "      <td>test</td>\n",
       "      <td>0</td>\n",
       "      <td>Thursday</td>\n",
       "      <td>9</td>\n",
       "    </tr>\n",
       "    <tr>\n",
       "      <th>19998</th>\n",
       "      <td>2022-04-08 09:48:57</td>\n",
       "      <td>test</td>\n",
       "      <td>0</td>\n",
       "      <td>Friday</td>\n",
       "      <td>9</td>\n",
       "    </tr>\n",
       "    <tr>\n",
       "      <th>19999</th>\n",
       "      <td>2022-04-16 00:30:33</td>\n",
       "      <td>control</td>\n",
       "      <td>1</td>\n",
       "      <td>Saturday</td>\n",
       "      <td>0</td>\n",
       "    </tr>\n",
       "  </tbody>\n",
       "</table>\n",
       "<p>19979 rows × 5 columns</p>\n",
       "</div>"
      ],
      "text/plain": [
       "                timestamp    group  converted day_of_week  hour_of_day\n",
       "0     2022-04-10 23:41:09     test          0      Sunday           23\n",
       "1     2022-04-28 13:40:50     test          1    Thursday           13\n",
       "2     2022-03-21 15:45:06     test          0      Monday           15\n",
       "3     2022-03-12 17:45:49  control          0    Saturday           17\n",
       "4     2022-03-05 11:46:30     test          0    Saturday           11\n",
       "...                   ...      ...        ...         ...          ...\n",
       "19995 2022-03-26 04:10:16  control          0    Saturday            4\n",
       "19996 2022-03-24 10:25:10  control          0    Thursday           10\n",
       "19997 2022-03-17 09:20:57     test          0    Thursday            9\n",
       "19998 2022-04-08 09:48:57     test          0      Friday            9\n",
       "19999 2022-04-16 00:30:33  control          1    Saturday            0\n",
       "\n",
       "[19979 rows x 5 columns]"
      ]
     },
     "execution_count": 7,
     "metadata": {},
     "output_type": "execute_result"
    }
   ],
   "source": [
    "# Ensure the timestamp column is in datetime format\n",
    "df_cleaned['timestamp'] = pd.to_datetime(df_cleaned['timestamp'])\n",
    "\n",
    "# Extract day of the week and hour of the day from timestamp\n",
    "df_cleaned['day_of_week'] = df_cleaned['timestamp'].dt.day_name()\n",
    "df_cleaned['hour_of_day'] = df_cleaned['timestamp'].dt.hour\n",
    "\n",
    "# Display the updated DataFrame\n",
    "df_cleaned"
   ]
  },
  {
   "cell_type": "markdown",
   "metadata": {},
   "source": [
    "I thought about looking at the day of the week and hour of the day. I didn't end up using these as variables, but they can be looked at if assessing the impact of the time the messages were sent."
   ]
  },
  {
   "cell_type": "markdown",
   "metadata": {},
   "source": [
    "##### General Checks"
   ]
  },
  {
   "cell_type": "code",
   "execution_count": 8,
   "metadata": {},
   "outputs": [
    {
     "data": {
      "text/plain": [
       "group           2\n",
       "converted       2\n",
       "day_of_week     7\n",
       "hour_of_day    24\n",
       "dtype: int64"
      ]
     },
     "execution_count": 8,
     "metadata": {},
     "output_type": "execute_result"
    }
   ],
   "source": [
    "#Check if categorical variables have appropriate number of levels \n",
    "df_cat = df_cleaned[['group','converted', 'day_of_week','hour_of_day']]\n",
    "df_cat.nunique()"
   ]
  },
  {
   "cell_type": "code",
   "execution_count": 9,
   "metadata": {},
   "outputs": [
    {
     "name": "stdout",
     "output_type": "stream",
     "text": [
      "GROUP : ['test' 'control']\n",
      "CONVERTED : [0 1]\n",
      "DAY_OF_WEEK : ['Sunday' 'Thursday' 'Monday' 'Saturday' 'Tuesday' 'Wednesday' 'Friday']\n",
      "HOUR_OF_DAY : [23 13 15 17 11 14 22 18 19 21  9  0  6  3 16  5 10 12  4  2 20  1  7  8]\n"
     ]
    }
   ],
   "source": [
    "#Check if the categorical variables have appropriate number of levels\n",
    "for i in df_cat.columns:\n",
    "    print(i.upper(), \":\", df_cat[i].unique())"
   ]
  },
  {
   "cell_type": "markdown",
   "metadata": {},
   "source": [
    "<a id='exploratory_data_analysis'></a>\n",
    "### 4. Exploratory Data Analysis"
   ]
  },
  {
   "cell_type": "markdown",
   "metadata": {},
   "source": [
    "Let's create a crosstab taking the group column with the converted column (which is our target variable) to start to see what the sample looks like. The data seem fairly normally distributed, but here we can also normalize the data which means we are dividing it by the row totals."
   ]
  },
  {
   "cell_type": "code",
   "execution_count": 10,
   "metadata": {},
   "outputs": [
    {
     "data": {
      "text/html": [
       "<div>\n",
       "<style scoped>\n",
       "    .dataframe tbody tr th:only-of-type {\n",
       "        vertical-align: middle;\n",
       "    }\n",
       "\n",
       "    .dataframe tbody tr th {\n",
       "        vertical-align: top;\n",
       "    }\n",
       "\n",
       "    .dataframe thead th {\n",
       "        text-align: right;\n",
       "    }\n",
       "</style>\n",
       "<table border=\"1\" class=\"dataframe\">\n",
       "  <thead>\n",
       "    <tr style=\"text-align: right;\">\n",
       "      <th>converted</th>\n",
       "      <th>0</th>\n",
       "      <th>1</th>\n",
       "    </tr>\n",
       "    <tr>\n",
       "      <th>group</th>\n",
       "      <th></th>\n",
       "      <th></th>\n",
       "    </tr>\n",
       "  </thead>\n",
       "  <tbody>\n",
       "    <tr>\n",
       "      <th>control</th>\n",
       "      <td>0.864321</td>\n",
       "      <td>0.135679</td>\n",
       "    </tr>\n",
       "    <tr>\n",
       "      <th>test</th>\n",
       "      <td>0.852835</td>\n",
       "      <td>0.147165</td>\n",
       "    </tr>\n",
       "  </tbody>\n",
       "</table>\n",
       "</div>"
      ],
      "text/plain": [
       "converted         0         1\n",
       "group                        \n",
       "control    0.864321  0.135679\n",
       "test       0.852835  0.147165"
      ]
     },
     "execution_count": 10,
     "metadata": {},
     "output_type": "execute_result"
    }
   ],
   "source": [
    "ct_conversion_test_group = pd.crosstab(df_cleaned['group'], df_cleaned['converted'], normalize = 'index')\n",
    "ct_conversion_test_group"
   ]
  },
  {
   "cell_type": "markdown",
   "metadata": {},
   "source": [
    "We can see here that of the people that saw the control message, 13.6% converted, while of the people that saw the test message, 14.7% converted. Both are already above the typical 10% threshold."
   ]
  },
  {
   "cell_type": "markdown",
   "metadata": {},
   "source": [
    "Let's create a visualization for this."
   ]
  },
  {
   "cell_type": "code",
   "execution_count": 11,
   "metadata": {},
   "outputs": [
    {
     "data": {
      "image/png": "[encoded data removed]",
      "text/plain": [
       "<Figure size 640x480 with 1 Axes>"
      ]
     },
     "metadata": {},
     "output_type": "display_data"
    }
   ],
   "source": [
    "ct_conversion_test_group.plot.bar(stacked=True);"
   ]
  },
  {
   "cell_type": "markdown",
   "metadata": {},
   "source": [
    "So we can see that, for those that were sent the new message, the conversion rate is higher than those who were sent the old message. But is the difference significant?"
   ]
  },
  {
   "cell_type": "markdown",
   "metadata": {},
   "source": [
    "I also briefly looked at day of the week to see if there any differences that stood out at-a-glance."
   ]
  },
  {
   "cell_type": "code",
   "execution_count": 12,
   "metadata": {},
   "outputs": [
    {
     "name": "stdout",
     "output_type": "stream",
     "text": [
      "converted           0         1\n",
      "day_of_week                    \n",
      "Sunday       0.851794  0.148206\n",
      "Tuesday      0.855656  0.144344\n",
      "Friday       0.856259  0.143741\n",
      "Thursday     0.859155  0.140845\n",
      "Saturday     0.861581  0.138419\n",
      "Monday       0.861612  0.138388\n",
      "Wednesday    0.863458  0.136542\n"
     ]
    },
    {
     "data": {
      "image/png": "[encoded data removed]",
      "text/plain": [
       "<Figure size 640x480 with 1 Axes>"
      ]
     },
     "metadata": {},
     "output_type": "display_data"
    }
   ],
   "source": [
    "ct_conversion_day = pd.crosstab(df_cleaned['day_of_week'], df_cleaned['converted'], normalize = 'index')\n",
    "print(ct_conversion_day.sort_values(by=1, ascending=False))\n",
    "ct_conversion_day.plot.bar(stacked=True);"
   ]
  },
  {
   "cell_type": "markdown",
   "metadata": {},
   "source": [
    "I didn't end up exploring this avenue further since the focus of this project was more on just the message version impact on conversion rate. "
   ]
  },
  {
   "cell_type": "markdown",
   "metadata": {},
   "source": [
    "Going back to looking at conversion rate by test vs control, here we can pull some basic stats like standard deviation and standard error."
   ]
  },
  {
   "cell_type": "code",
   "execution_count": 13,
   "metadata": {},
   "outputs": [
    {
     "name": "stderr",
     "output_type": "stream",
     "text": [
      "/var/folders/92/qcw5dqq94pd8_gbch38sbhqc0000gn/T/ipykernel_37529/2891492818.py:6: FutureWarning: The provided callable <function mean at 0x103af8e50> is currently using SeriesGroupBy.mean. In a future version of pandas, the provided callable will be used directly. To keep current behavior pass the string \"mean\" instead.\n",
      "  conversion_rates = conversion_rates.agg([np.mean, std_p, se_p])\n"
     ]
    },
    {
     "data": {
      "text/html": [
       "<div>\n",
       "<style scoped>\n",
       "    .dataframe tbody tr th:only-of-type {\n",
       "        vertical-align: middle;\n",
       "    }\n",
       "\n",
       "    .dataframe tbody tr th {\n",
       "        vertical-align: top;\n",
       "    }\n",
       "\n",
       "    .dataframe thead th {\n",
       "        text-align: right;\n",
       "    }\n",
       "</style>\n",
       "<table border=\"1\" class=\"dataframe\">\n",
       "  <thead>\n",
       "    <tr style=\"text-align: right;\">\n",
       "      <th></th>\n",
       "      <th>conversion_rate</th>\n",
       "      <th>std_deviation</th>\n",
       "      <th>std_error</th>\n",
       "    </tr>\n",
       "    <tr>\n",
       "      <th>group</th>\n",
       "      <th></th>\n",
       "      <th></th>\n",
       "      <th></th>\n",
       "    </tr>\n",
       "  </thead>\n",
       "  <tbody>\n",
       "    <tr>\n",
       "      <th>control</th>\n",
       "      <td>0.135679</td>\n",
       "      <td>0.342448</td>\n",
       "      <td>0.003419</td>\n",
       "    </tr>\n",
       "    <tr>\n",
       "      <th>test</th>\n",
       "      <td>0.147165</td>\n",
       "      <td>0.354271</td>\n",
       "      <td>0.003552</td>\n",
       "    </tr>\n",
       "  </tbody>\n",
       "</table>\n",
       "</div>"
      ],
      "text/plain": [
       "         conversion_rate  std_deviation  std_error\n",
       "group                                             \n",
       "control         0.135679       0.342448   0.003419\n",
       "test            0.147165       0.354271   0.003552"
      ]
     },
     "execution_count": 13,
     "metadata": {},
     "output_type": "execute_result"
    }
   ],
   "source": [
    "conversion_rates = df_cleaned.groupby('group')['converted']\n",
    "\n",
    "std_p = lambda x: np.std(x, ddof=0)              # Std. deviation of the proportion\n",
    "se_p = lambda x: stats.sem(x, ddof=0)            # Std. error of the proportion (std / sqrt(n))\n",
    "\n",
    "conversion_rates = conversion_rates.agg([np.mean, std_p, se_p])\n",
    "conversion_rates.columns = ['conversion_rate', 'std_deviation', 'std_error']  # Rename columns\n",
    "conversion_rates"
   ]
  },
  {
   "cell_type": "markdown",
   "metadata": {},
   "source": [
    "And again we can visualize, this time to see just the difference in conversion rates for the test vs control."
   ]
  },
  {
   "cell_type": "code",
   "execution_count": 14,
   "metadata": {},
   "outputs": [
    {
     "name": "stderr",
     "output_type": "stream",
     "text": [
      "/var/folders/92/qcw5dqq94pd8_gbch38sbhqc0000gn/T/ipykernel_37529/296107176.py:3: FutureWarning: \n",
      "\n",
      "The `ci` parameter is deprecated. Use `errorbar=('ci', False)` for the same effect.\n",
      "\n",
      "  sns.barplot(x = df_cleaned['group'], y = df_cleaned['converted'], ci=False)\n"
     ]
    },
    {
     "data": {
      "text/plain": [
       "Text(0, 0.5, 'Converted (proportion)')"
      ]
     },
     "execution_count": 14,
     "metadata": {},
     "output_type": "execute_result"
    },
    {
     "data": {
      "image/png": "[encoded data removed]",
      "text/plain": [
       "<Figure size 800x600 with 1 Axes>"
      ]
     },
     "metadata": {},
     "output_type": "display_data"
    }
   ],
   "source": [
    "plt.figure(figsize=(8,6))\n",
    "\n",
    "sns.barplot(x = df_cleaned['group'], y = df_cleaned['converted'], ci=False)\n",
    "\n",
    "plt.ylim(0, 0.17)\n",
    "plt.title('Conversion rate by group')\n",
    "plt.xlabel('Group')\n",
    "plt.ylabel('Converted (proportion)')"
   ]
  },
  {
   "cell_type": "markdown",
   "metadata": {},
   "source": [
    "<a id='testing_the_hypothesis'></a>\n",
    "### 5. Testing the hypothesis"
   ]
  },
  {
   "cell_type": "markdown",
   "metadata": {},
   "source": [
    "Now that we've cleaned and explored the data, we can go ahead and test our hypothesis. Since the sample is relatively large and normally distributed, we can use a z-test to get the $p$-value and confidence intervals."
   ]
  },
  {
   "cell_type": "code",
   "execution_count": 15,
   "metadata": {},
   "outputs": [],
   "source": [
    "control_results = df_cleaned[df_cleaned['group'] == 'control']['converted']\n",
    "test_results = df_cleaned[df_cleaned['group'] == 'test']['converted']"
   ]
  },
  {
   "cell_type": "code",
   "execution_count": 16,
   "metadata": {},
   "outputs": [
    {
     "name": "stdout",
     "output_type": "stream",
     "text": [
      "z statistic: -2.33\n",
      "p-value: 0.020\n",
      "ci 95% for control group: [0.129, 0.142]\n",
      "ci 95% for test group: [0.140, 0.154]\n"
     ]
    }
   ],
   "source": [
    "n_con = control_results.count()\n",
    "n_test = test_results.count()\n",
    "successes = [control_results.sum(), test_results.sum()]\n",
    "nobs = [n_con, n_test]\n",
    "\n",
    "z_stat, pval = proportions_ztest(successes, nobs=nobs)\n",
    "(lower_con, lower_test), (upper_con, upper_test) = proportion_confint(successes, nobs=nobs, alpha=0.05)\n",
    "\n",
    "print(f'z statistic: {z_stat:.2f}')\n",
    "print(f'p-value: {pval:.3f}')\n",
    "print(f'ci 95% for control group: [{lower_con:.3f}, {upper_con:.3f}]')\n",
    "print(f'ci 95% for test group: [{lower_test:.3f}, {upper_test:.3f}]')"
   ]
  },
  {
   "cell_type": "markdown",
   "metadata": {},
   "source": [
    "<a id='conclusions'></a>\n",
    "### 6. Conclusions and making recommendations"
   ]
  },
  {
   "cell_type": "markdown",
   "metadata": {},
   "source": [
    "Since the $p$-value=0.02 is below our $\\alpha$=0.05, we can reject the null hypothesis $H_0$, which means that the new message performed significantly better than the old one.\n",
    "\n",
    "We can look at the confidence interval for the test group ([0.140, 0.154], i.e. 14.0-15.4%) as well as the control group ([0.129, 0.142], i.e. 12.9-14.2%) and we can see that it is higher for the test group, but both groups perform better than the typical 10% conversion rate.\n",
    "\n",
    "What this means is that the observed difference is unlikely due to chance and that the new message was more effective in getting subscribers to convert.\n",
    "\n",
    "Should the team switch to the new message? \n",
    "\n",
    "The experiment aimed to see if the new CTA message was more effective in getting subscribers to convert compared to the old message. There was a significant difference in the new message compared to the old message in getting subscribers to convert. But there are of course caveats. First, we can go back to defining 'conversions': Did they buy? Did they click? Could it be the case where one message made subscribers click more, while the other ultimately lead to more purchases? It would be helpful to know the metric and know what is the most important metric for the brand.\n",
    "\n",
    "It would also be helpful to have more information about the subscribers. Are they new subscribers? Are the loyalists? Could then the results be biased by some sort of novelty effect? If there are to be future tests, it would be helpful to know the population.\n",
    "\n",
    "There will always be caveats, but if team is solely looking to switch messages based on the message's impact on conversion rate in this population, and a conversion rate of 14.7% compared to 13.6% is enough to move the needle, then they should switch to the new message."
   ]
  }
 ],
 "metadata": {
  "kernelspec": {
   "display_name": "Python 3",
   "language": "python",
   "name": "python3"
  },
  "language_info": {
   "codemirror_mode": {
    "name": "ipython",
    "version": 3
   },
   "file_extension": ".py",
   "mimetype": "text/x-python",
   "name": "python",
   "nbconvert_exporter": "python",
   "pygments_lexer": "ipython3",
   "version": "3.9.6"
  }
 },
 "nbformat": 4,
 "nbformat_minor": 2
}
